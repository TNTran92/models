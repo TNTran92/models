{
 "cells": [
  {
   "cell_type": "markdown",
   "metadata": {
    "id": "bK-7g5sizhg5"
   },
   "source": [
    "## Install Tensorflow-Models packages\n",
    "\n",
    "The notebook is tested with Google Colab sandbox.\n",
    "\n"
   ]
  },
  {
   "cell_type": "code",
   "execution_count": 1,
   "metadata": {
    "colab": {
     "base_uri": "https://localhost:8080/"
    },
    "executionInfo": {
     "elapsed": 9737,
     "status": "ok",
     "timestamp": 1650513863935,
     "user": {
      "displayName": "Hongkun Yu",
      "userId": "12855578661733349593"
     },
     "user_tz": 420
    },
    "id": "eTz93_P2dMty",
    "outputId": "d147b4b0-954f-4064-d179-bb82bc3ea4fe"
   },
   "outputs": [
    {
     "name": "stdout",
     "output_type": "stream",
     "text": [
      "\u001b[31mERROR: Ignored the following yanked versions: 3.4.11.39, 3.4.11.41, 4.4.0.40, 4.4.0.42, 4.4.0.44, 4.5.5.62, 4.7.0.68, 4.8.0.74\u001b[0m\u001b[31m\n",
      "\u001b[0m\u001b[31mERROR: Could not find a version that satisfies the requirement opencv-python-headless==4.1.2.30 (from versions: 3.4.10.37, 3.4.11.43, 3.4.11.45, 3.4.13.47, 3.4.15.55, 3.4.16.59, 3.4.17.61, 3.4.17.63, 3.4.18.65, 4.3.0.38, 4.4.0.46, 4.5.1.48, 4.5.3.56, 4.5.4.58, 4.5.4.60, 4.5.5.64, 4.6.0.66, 4.7.0.72, 4.8.0.76, 4.8.1.78, 4.9.0.80, 4.10.0.82, 4.10.0.84)\u001b[0m\u001b[31m\n",
      "\u001b[0m\u001b[31mERROR: No matching distribution found for opencv-python-headless==4.1.2.30\u001b[0m\u001b[31m\n",
      "\u001b[0m"
     ]
    }
   ],
   "source": [
    "!pip3 install -q tf-models-nightly\n",
    "# Fix Colab default opencv problem\n",
    "!pip3 install -q opencv-python-headless==4.1.2.30\n",
    "\n",
    "## Colab environment setup. To use a stable TF release version\n",
    "##  because of the possible breakage in tf-nightly.\n",
    "# !pip3 install -U numpy>=1.20\n",
    "# !pip3 install -q tensorflow==2.8.0"
   ]
  },
  {
   "cell_type": "code",
   "execution_count": 2,
   "metadata": {
    "colab": {
     "base_uri": "https://localhost:8080/"
    },
    "executionInfo": {
     "elapsed": 2,
     "status": "ok",
     "timestamp": 1650513867685,
     "user": {
      "displayName": "Hongkun Yu",
      "userId": "12855578661733349593"
     },
     "user_tz": 420
    },
    "id": "GHvGWdCcdQqG",
    "outputId": "863683b2-6b70-4de9-98bc-5df743619ad5"
   },
   "outputs": [
    {
     "name": "stderr",
     "output_type": "stream",
     "text": [
      "2024-12-03 10:33:08.650199: I tensorflow/core/util/port.cc:153] oneDNN custom operations are on. You may see slightly different numerical results due to floating-point round-off errors from different computation orders. To turn them off, set the environment variable `TF_ENABLE_ONEDNN_OPTS=0`.\n",
      "2024-12-03 10:33:08.658999: E external/local_xla/xla/stream_executor/cuda/cuda_fft.cc:477] Unable to register cuFFT factory: Attempting to register factory for plugin cuFFT when one has already been registered\n",
      "WARNING: All log messages before absl::InitializeLog() is called are written to STDERR\n",
      "E0000 00:00:1733243588.668705  474777 cuda_dnn.cc:8310] Unable to register cuDNN factory: Attempting to register factory for plugin cuDNN when one has already been registered\n",
      "E0000 00:00:1733243588.671569  474777 cuda_blas.cc:1418] Unable to register cuBLAS factory: Attempting to register factory for plugin cuBLAS when one has already been registered\n",
      "2024-12-03 10:33:08.683425: I tensorflow/core/platform/cpu_feature_guard.cc:210] This TensorFlow binary is optimized to use available CPU instructions in performance-critical operations.\n",
      "To enable the following instructions: AVX2 AVX512F AVX512_VNNI AVX512_BF16 FMA, in other operations, rebuild TensorFlow with the appropriate compiler flags.\n"
     ]
    },
    {
     "name": "stdout",
     "output_type": "stream",
     "text": [
      "1.26.4\n",
      "2.18.0\n"
     ]
    }
   ],
   "source": [
    "import numpy as np\n",
    "import tensorflow as tf\n",
    "print(np.__version__)\n",
    "print(tf.__version__)\n",
    "\n",
    "import tensorflow_models as tfm"
   ]
  },
  {
   "cell_type": "markdown",
   "metadata": {
    "id": "eYSeQJniztc8"
   },
   "source": [
    "## Check out modules\n",
    "\n",
    "**Note: As the TensorFlow Models (NLP + Vision) 2.9 release which is tested for this notebook, we partially exported selected modules but the APIs are not stable. Also be aware that, the\n",
    "modeling libraries are advancing very fast, so we generally don't guarantee compatibility between versions.** "
   ]
  },
  {
   "cell_type": "code",
   "execution_count": 3,
   "metadata": {
    "colab": {
     "base_uri": "https://localhost:8080/"
    },
    "executionInfo": {
     "elapsed": 206,
     "status": "ok",
     "timestamp": 1650513874596,
     "user": {
      "displayName": "Hongkun Yu",
      "userId": "12855578661733349593"
     },
     "user_tz": 420
    },
    "id": "Y1iEMMGTMrQu",
    "outputId": "f3da68d7-ecda-471c-c27b-915b80b55131"
   },
   "outputs": [
    {
     "name": "stdout",
     "output_type": "stream",
     "text": [
      "Top-level modules:  ['__builtins__', '__cached__', '__doc__', '__file__', '__loader__', '__name__', '__package__', '__path__', '__spec__', 'core', 'hyperparams', 'nlp', 'optimization', 'uplift', 'utils', 'vision']\n",
      "NLP modules:  ['__builtins__', '__cached__', '__doc__', '__file__', '__loader__', '__name__', '__package__', '__path__', '__spec__', 'encoders', 'layers', 'losses', 'models', 'networks', 'ops', 'serving_modules', 'tasks']\n",
      "Vision modules:  ['ImageClassificationTask', 'MaskRCNNTask', 'RetinaNetTask', 'SemanticSegmentationTask', 'VideoClassificationTask', '__builtins__', '__cached__', '__doc__', '__file__', '__loader__', '__name__', '__package__', '__path__', '__spec__', 'anchor', 'augment', 'backbones', 'box_matcher', 'box_ops', 'classification_model', 'configs', 'decoders', 'factory', 'factory_3d', 'heads', 'image_classification', 'iou_similarity', 'layers', 'mask_ops', 'maskrcnn', 'maskrcnn_model', 'models', 'nms', 'preprocess_ops', 'preprocess_ops_3d', 'retinanet', 'retinanet_model', 'sampling_ops', 'segmentation_model', 'semantic_segmentation', 'serving', 'spatial_transform_ops', 'target_gather', 'video_classification', 'video_classification_model']\n"
     ]
    }
   ],
   "source": [
    "print(\"Top-level modules: \", dir(tfm))\n",
    "print(\"NLP modules: \", dir(tfm.nlp))\n",
    "print(\"Vision modules: \", dir(tfm.vision))"
   ]
  },
  {
   "cell_type": "markdown",
   "metadata": {
    "id": "UMHeJmk_1yUf"
   },
   "source": [
    "## Quick Examples\n",
    "\n",
    "### 1. Use a tfm.nlp Keras layer"
   ]
  },
  {
   "cell_type": "code",
   "execution_count": 4,
   "metadata": {
    "colab": {
     "base_uri": "https://localhost:8080/"
    },
    "executionInfo": {
     "elapsed": 400,
     "status": "ok",
     "timestamp": 1650514040957,
     "user": {
      "displayName": "Hongkun Yu",
      "userId": "12855578661733349593"
     },
     "user_tz": 420
    },
    "id": "XVWEUozQ1xQY",
    "outputId": "5de2aa91-8c38-438e-80b6-481617917c08"
   },
   "outputs": [
    {
     "name": "stdout",
     "output_type": "stream",
     "text": [
      "transformer_encoder_block\n",
      "tf.Tensor(\n",
      "[[[ 1.1675076   0.55028504 -0.20364621 -1.5141466 ]\n",
      "  [ 1.1675076   0.55028504 -0.20364621 -1.5141466 ]\n",
      "  [ 1.1675076   0.55028504 -0.20364621 -1.5141466 ]]\n",
      "\n",
      " [[ 1.1675076   0.55028504 -0.20364621 -1.5141466 ]\n",
      "  [ 1.1675076   0.55028504 -0.20364621 -1.5141466 ]\n",
      "  [ 1.1675076   0.55028504 -0.20364621 -1.5141466 ]]], shape=(2, 3, 4), dtype=float32)\n"
     ]
    },
    {
     "name": "stderr",
     "output_type": "stream",
     "text": [
      "2024-12-03 10:33:21.966658: E external/local_xla/xla/stream_executor/cuda/cuda_driver.cc:152] failed call to cuInit: INTERNAL: CUDA error: Failed call to cuInit: CUDA_ERROR_SYSTEM_DRIVER_MISMATCH: system has unsupported display driver / cuda driver combination\n",
      "2024-12-03 10:33:21.966677: I external/local_xla/xla/stream_executor/cuda/cuda_diagnostics.cc:137] retrieving CUDA diagnostic information for host: cudapoc-machine\n",
      "2024-12-03 10:33:21.966683: I external/local_xla/xla/stream_executor/cuda/cuda_diagnostics.cc:144] hostname: cudapoc-machine\n",
      "2024-12-03 10:33:21.966754: I external/local_xla/xla/stream_executor/cuda/cuda_diagnostics.cc:168] libcuda reported version is: 555.42.2\n",
      "2024-12-03 10:33:21.966770: I external/local_xla/xla/stream_executor/cuda/cuda_diagnostics.cc:172] kernel reported version is: 560.35.3\n",
      "2024-12-03 10:33:21.966775: E external/local_xla/xla/stream_executor/cuda/cuda_diagnostics.cc:262] kernel version 560.35.3 does not match DSO version 555.42.2 -- cannot find working devices in this configuration\n"
     ]
    }
   ],
   "source": [
    "encoder_block = tfm.nlp.layers.TransformerEncoderBlock(\n",
    "        num_attention_heads=2, inner_dim=10, inner_activation='relu')\n",
    "\n",
    "batch, length, hidden_size = 2, 3, 4\n",
    "qkv_inputs = tf.ones((batch, length, hidden_size), tf.float32)\n",
    "attention_mask = None\n",
    "outputs = encoder_block([qkv_inputs, attention_mask])\n",
    "print(encoder_block.name)\n",
    "print(outputs)"
   ]
  },
  {
   "cell_type": "markdown",
   "metadata": {
    "id": "AOOrWjKkSYM0"
   },
   "source": [
    "### 2. Use a tfm.vision Backbone models"
   ]
  },
  {
   "cell_type": "code",
   "execution_count": 5,
   "metadata": {
    "colab": {
     "base_uri": "https://localhost:8080/"
    },
    "executionInfo": {
     "elapsed": 5979,
     "status": "ok",
     "timestamp": 1650514078414,
     "user": {
      "displayName": "Hongkun Yu",
      "userId": "12855578661733349593"
     },
     "user_tz": 420
    },
    "id": "xwD0UhUdSzNU",
    "outputId": "770d46c0-8c71-4f59-ee0b-67430c791380"
   },
   "outputs": [
    {
     "name": "stderr",
     "output_type": "stream",
     "text": [
      "WARNING:absl:SpineNet output level 3 out of range [min_level, max_level] = [4, 6] will not be used for further processing.\n",
      "WARNING:absl:SpineNet output level 7 out of range [min_level, max_level] = [4, 6] will not be used for further processing.\n",
      "WARNING:absl:SpineNet output level 2 out of range [min_level, max_level] = [4, 6] will not be used for further processing.\n"
     ]
    },
    {
     "ename": "AttributeError",
     "evalue": "Exception encountered when calling layer 'spine_net' (type SpineNet).\n\n'tuple' object has no attribute 'rank'\n\nCall arguments received by layer 'spine_net' (type SpineNet):\n  • inputs=<KerasTensor shape=(1, 128, 128, 3), dtype=float32, sparse=False, name=keras_tensor>\n  • training=None\n  • mask=None",
     "output_type": "error",
     "traceback": [
      "\u001b[0;31m---------------------------------------------------------------------------\u001b[0m",
      "\u001b[0;31mAttributeError\u001b[0m                            Traceback (most recent call last)",
      "Cell \u001b[0;32mIn[5], line 17\u001b[0m\n\u001b[1;32m      5\u001b[0m model \u001b[38;5;241m=\u001b[39m tfm\u001b[38;5;241m.\u001b[39mvision\u001b[38;5;241m.\u001b[39mbackbones\u001b[38;5;241m.\u001b[39mSpineNet(\n\u001b[1;32m      6\u001b[0m     input_specs\u001b[38;5;241m=\u001b[39minput_specs,\n\u001b[1;32m      7\u001b[0m     min_level\u001b[38;5;241m=\u001b[39mmin_level,\n\u001b[0;32m   (...)\u001b[0m\n\u001b[1;32m     13\u001b[0m     init_stochastic_depth_rate\u001b[38;5;241m=\u001b[39m\u001b[38;5;241m0.2\u001b[39m,\n\u001b[1;32m     14\u001b[0m )\n\u001b[1;32m     16\u001b[0m inputs \u001b[38;5;241m=\u001b[39m tf\u001b[38;5;241m.\u001b[39mkeras\u001b[38;5;241m.\u001b[39mInput(shape\u001b[38;5;241m=\u001b[39m(input_size, input_size, \u001b[38;5;241m3\u001b[39m), batch_size\u001b[38;5;241m=\u001b[39m\u001b[38;5;241m1\u001b[39m)\n\u001b[0;32m---> 17\u001b[0m endpoints \u001b[38;5;241m=\u001b[39m \u001b[43mmodel\u001b[49m\u001b[43m(\u001b[49m\u001b[43minputs\u001b[49m\u001b[43m)\u001b[49m\n\u001b[1;32m     18\u001b[0m \u001b[38;5;28mprint\u001b[39m(model\u001b[38;5;241m.\u001b[39mname)\n\u001b[1;32m     19\u001b[0m \u001b[38;5;28mprint\u001b[39m(endpoints)\n",
      "File \u001b[0;32m~/anaconda3/envs/mypython310_tf2/lib/python3.10/site-packages/tf_keras/src/utils/traceback_utils.py:70\u001b[0m, in \u001b[0;36mfilter_traceback.<locals>.error_handler\u001b[0;34m(*args, **kwargs)\u001b[0m\n\u001b[1;32m     67\u001b[0m     filtered_tb \u001b[38;5;241m=\u001b[39m _process_traceback_frames(e\u001b[38;5;241m.\u001b[39m__traceback__)\n\u001b[1;32m     68\u001b[0m     \u001b[38;5;66;03m# To get the full stack trace, call:\u001b[39;00m\n\u001b[1;32m     69\u001b[0m     \u001b[38;5;66;03m# `tf.debugging.disable_traceback_filtering()`\u001b[39;00m\n\u001b[0;32m---> 70\u001b[0m     \u001b[38;5;28;01mraise\u001b[39;00m e\u001b[38;5;241m.\u001b[39mwith_traceback(filtered_tb) \u001b[38;5;28;01mfrom\u001b[39;00m \u001b[38;5;28;01mNone\u001b[39;00m\n\u001b[1;32m     71\u001b[0m \u001b[38;5;28;01mfinally\u001b[39;00m:\n\u001b[1;32m     72\u001b[0m     \u001b[38;5;28;01mdel\u001b[39;00m filtered_tb\n",
      "File \u001b[0;32m~/anaconda3/envs/mypython310_tf2/lib/python3.10/site-packages/tf_keras/src/engine/input_spec.py:251\u001b[0m, in \u001b[0;36massert_input_compatibility\u001b[0;34m(input_spec, inputs, layer_name)\u001b[0m\n\u001b[1;32m    244\u001b[0m         \u001b[38;5;28;01mraise\u001b[39;00m \u001b[38;5;167;01mValueError\u001b[39;00m(\n\u001b[1;32m    245\u001b[0m             \u001b[38;5;124mf\u001b[39m\u001b[38;5;124m'\u001b[39m\u001b[38;5;124mInput \u001b[39m\u001b[38;5;132;01m{\u001b[39;00minput_index\u001b[38;5;132;01m}\u001b[39;00m\u001b[38;5;124m of layer \u001b[39m\u001b[38;5;124m\"\u001b[39m\u001b[38;5;132;01m{\u001b[39;00mlayer_name\u001b[38;5;132;01m}\u001b[39;00m\u001b[38;5;124m\"\u001b[39m\u001b[38;5;124m \u001b[39m\u001b[38;5;124m'\u001b[39m\n\u001b[1;32m    246\u001b[0m             \u001b[38;5;124m\"\u001b[39m\u001b[38;5;124mis incompatible with the layer: \u001b[39m\u001b[38;5;124m\"\u001b[39m\n\u001b[1;32m    247\u001b[0m             \u001b[38;5;124mf\u001b[39m\u001b[38;5;124m\"\u001b[39m\u001b[38;5;124mexpected max_ndim=\u001b[39m\u001b[38;5;132;01m{\u001b[39;00mspec\u001b[38;5;241m.\u001b[39mmax_ndim\u001b[38;5;132;01m}\u001b[39;00m\u001b[38;5;124m, \u001b[39m\u001b[38;5;124m\"\u001b[39m\n\u001b[1;32m    248\u001b[0m             \u001b[38;5;124mf\u001b[39m\u001b[38;5;124m\"\u001b[39m\u001b[38;5;124mfound ndim=\u001b[39m\u001b[38;5;132;01m{\u001b[39;00mndim\u001b[38;5;132;01m}\u001b[39;00m\u001b[38;5;124m\"\u001b[39m\n\u001b[1;32m    249\u001b[0m         )\n\u001b[1;32m    250\u001b[0m \u001b[38;5;28;01mif\u001b[39;00m spec\u001b[38;5;241m.\u001b[39mmin_ndim \u001b[38;5;129;01mis\u001b[39;00m \u001b[38;5;129;01mnot\u001b[39;00m \u001b[38;5;28;01mNone\u001b[39;00m:\n\u001b[0;32m--> 251\u001b[0m     ndim \u001b[38;5;241m=\u001b[39m \u001b[43mx\u001b[49m\u001b[38;5;241;43m.\u001b[39;49m\u001b[43mshape\u001b[49m\u001b[38;5;241;43m.\u001b[39;49m\u001b[43mrank\u001b[49m\n\u001b[1;32m    252\u001b[0m     \u001b[38;5;28;01mif\u001b[39;00m ndim \u001b[38;5;129;01mis\u001b[39;00m \u001b[38;5;129;01mnot\u001b[39;00m \u001b[38;5;28;01mNone\u001b[39;00m \u001b[38;5;129;01mand\u001b[39;00m ndim \u001b[38;5;241m<\u001b[39m spec\u001b[38;5;241m.\u001b[39mmin_ndim:\n\u001b[1;32m    253\u001b[0m         \u001b[38;5;28;01mraise\u001b[39;00m \u001b[38;5;167;01mValueError\u001b[39;00m(\n\u001b[1;32m    254\u001b[0m             \u001b[38;5;124mf\u001b[39m\u001b[38;5;124m'\u001b[39m\u001b[38;5;124mInput \u001b[39m\u001b[38;5;132;01m{\u001b[39;00minput_index\u001b[38;5;132;01m}\u001b[39;00m\u001b[38;5;124m of layer \u001b[39m\u001b[38;5;124m\"\u001b[39m\u001b[38;5;132;01m{\u001b[39;00mlayer_name\u001b[38;5;132;01m}\u001b[39;00m\u001b[38;5;124m\"\u001b[39m\u001b[38;5;124m \u001b[39m\u001b[38;5;124m'\u001b[39m\n\u001b[1;32m    255\u001b[0m             \u001b[38;5;124m\"\u001b[39m\u001b[38;5;124mis incompatible with the layer: \u001b[39m\u001b[38;5;124m\"\u001b[39m\n\u001b[0;32m   (...)\u001b[0m\n\u001b[1;32m    258\u001b[0m             \u001b[38;5;124mf\u001b[39m\u001b[38;5;124m\"\u001b[39m\u001b[38;5;124mFull shape received: \u001b[39m\u001b[38;5;132;01m{\u001b[39;00m\u001b[38;5;28mtuple\u001b[39m(shape)\u001b[38;5;132;01m}\u001b[39;00m\u001b[38;5;124m\"\u001b[39m\n\u001b[1;32m    259\u001b[0m         )\n",
      "\u001b[0;31mAttributeError\u001b[0m: Exception encountered when calling layer 'spine_net' (type SpineNet).\n\n'tuple' object has no attribute 'rank'\n\nCall arguments received by layer 'spine_net' (type SpineNet):\n  • inputs=<KerasTensor shape=(1, 128, 128, 3), dtype=float32, sparse=False, name=keras_tensor>\n  • training=None\n  • mask=None"
     ]
    }
   ],
   "source": [
    "input_size = 128\n",
    "filter_size_scale, block_repeats, resample_alpha, endpoints_num_filters, min_level, max_level = 0.65, 1, 0.5, 128, 4, 6\n",
    "input_specs = tf.keras.layers.InputSpec(\n",
    "    shape=[None, input_size, input_size, 3])\n",
    "model = tfm.vision.backbones.SpineNet(\n",
    "    input_specs=input_specs,\n",
    "    min_level=min_level,\n",
    "    max_level=max_level,\n",
    "    endpoints_num_filters=endpoints_num_filters,\n",
    "    resample_alpha=resample_alpha,\n",
    "    block_repeats=block_repeats,\n",
    "    filter_size_scale=filter_size_scale,\n",
    "    init_stochastic_depth_rate=0.2,\n",
    ")\n",
    "\n",
    "inputs = tf.keras.Input(shape=(input_size, input_size, 3), batch_size=1)\n",
    "endpoints = model(inputs)\n",
    "print(model.name)\n",
    "print(endpoints)"
   ]
  },
  {
   "cell_type": "markdown",
   "metadata": {
    "id": "HHJs4lRlTk8q"
   },
   "source": [
    "### 3. Use Orbit package for advanced training loops"
   ]
  },
  {
   "cell_type": "code",
   "execution_count": 6,
   "metadata": {
    "colab": {
     "base_uri": "https://localhost:8080/"
    },
    "executionInfo": {
     "elapsed": 215,
     "status": "ok",
     "timestamp": 1650514185283,
     "user": {
      "displayName": "Hongkun Yu",
      "userId": "12855578661733349593"
     },
     "user_tz": 420
    },
    "id": "X4ek9IrJTkP_",
    "outputId": "7b31de68-53a0-4b8a-d9ab-109e7c43c933"
   },
   "outputs": [
    {
     "name": "stdout",
     "output_type": "stream",
     "text": [
      "Orbit modules:  ['AbstractEvaluator', 'AbstractTrainer', 'Action', 'Controller', 'StandardEvaluator', 'StandardEvaluatorOptions', 'StandardTrainer', 'StandardTrainerOptions', '__builtins__', '__cached__', '__doc__', '__file__', '__loader__', '__name__', '__package__', '__path__', '__spec__', 'actions', 'controller', 'runner', 'standard_runner', 'utils']\n"
     ]
    }
   ],
   "source": [
    "import orbit\n",
    "print(\"Orbit modules: \", dir(orbit))"
   ]
  }
 ],
 "metadata": {
  "colab": {
   "collapsed_sections": [],
   "name": "tensorflow_models_pypi",
   "provenance": [
    {
     "file_id": "1dm1dUZ2Bo6S6Zom7GTQrIG78Xz7iFeZY",
     "timestamp": 1650514452505
    }
   ]
  },
  "kernelspec": {
   "display_name": "mypython310_tf2",
   "language": "python",
   "name": "python3"
  },
  "language_info": {
   "codemirror_mode": {
    "name": "ipython",
    "version": 3
   },
   "file_extension": ".py",
   "mimetype": "text/x-python",
   "name": "python",
   "nbconvert_exporter": "python",
   "pygments_lexer": "ipython3",
   "version": "3.10.15"
  }
 },
 "nbformat": 4,
 "nbformat_minor": 0
}
